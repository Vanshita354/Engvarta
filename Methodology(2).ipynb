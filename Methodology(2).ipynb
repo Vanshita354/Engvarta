{
  "cells": [
    {
      "cell_type": "code",
      "source": [
        "from google.colab import drive\n",
        "drive.mount('/content/drive')"
      ],
      "metadata": {
        "colab": {
          "base_uri": "https://localhost:8080/"
        },
        "id": "OMHpBwZPzTyl",
        "outputId": "ac277a56-6e6e-4ffd-e7a9-27aa28b287bf"
      },
      "execution_count": 1,
      "outputs": [
        {
          "output_type": "stream",
          "name": "stdout",
          "text": [
            "Drive already mounted at /content/drive; to attempt to forcibly remount, call drive.mount(\"/content/drive\", force_remount=True).\n"
          ]
        }
      ]
    },
    {
      "cell_type": "code",
      "source": [
        "!pip install surprise"
      ],
      "metadata": {
        "colab": {
          "base_uri": "https://localhost:8080/"
        },
        "id": "wrHKwscyziGE",
        "outputId": "9e48d5fb-aeed-47a1-876f-4b1b0d436b95"
      },
      "execution_count": 2,
      "outputs": [
        {
          "output_type": "stream",
          "name": "stdout",
          "text": [
            "Requirement already satisfied: surprise in /usr/local/lib/python3.10/dist-packages (0.1)\n",
            "Requirement already satisfied: scikit-surprise in /usr/local/lib/python3.10/dist-packages (from surprise) (1.1.3)\n",
            "Requirement already satisfied: joblib>=1.0.0 in /usr/local/lib/python3.10/dist-packages (from scikit-surprise->surprise) (1.4.0)\n",
            "Requirement already satisfied: numpy>=1.17.3 in /usr/local/lib/python3.10/dist-packages (from scikit-surprise->surprise) (1.25.2)\n",
            "Requirement already satisfied: scipy>=1.3.2 in /usr/local/lib/python3.10/dist-packages (from scikit-surprise->surprise) (1.11.4)\n"
          ]
        }
      ]
    },
    {
      "cell_type": "code",
      "execution_count": 3,
      "metadata": {
        "id": "J6mvRkgOA9mw"
      },
      "outputs": [],
      "source": [
        "import matplotlib.pyplot as plt\n",
        "import numpy as np\n",
        "import os\n",
        "import pandas as pd\n",
        "from joblib import dump, load\n",
        "from scipy.stats import linregress\n",
        "from sklearn.metrics import max_error, mean_squared_error\n",
        "from sklearn.model_selection import GridSearchCV, train_test_split\n",
        "from sklearn.tree import DecisionTreeRegressor\n",
        "from surprise.dataset import Dataset\n",
        "from surprise.prediction_algorithms.matrix_factorization import SVD\n",
        "from surprise.reader import Reader\n",
        "\n",
        "\n",
        "random_state = 14\n",
        "\n",
        "\n",
        "if not os.path.exists('cached'):\n",
        "    os.makedirs('cached')"
      ]
    },
    {
      "cell_type": "markdown",
      "metadata": {
        "id": "QijiJ707A9mx"
      },
      "source": [
        "## Data preprocessing"
      ]
    },
    {
      "cell_type": "code",
      "execution_count": 4,
      "metadata": {
        "id": "iM7IsounA9mz"
      },
      "outputs": [],
      "source": [
        "df_fe = pd.read_csv('first_encounters.csv', encoding='utf-8', index_col='ordinal')"
      ]
    },
    {
      "cell_type": "code",
      "execution_count": 5,
      "metadata": {
        "colab": {
          "base_uri": "https://localhost:8080/"
        },
        "id": "2GQ5M4n6A9m3",
        "outputId": "e4582d11-7556-402d-a4b0-3101f9ff9b77"
      },
      "outputs": [
        {
          "output_type": "execute_result",
          "data": {
            "text/plain": [
              "count    3778.000000\n",
              "mean       41.701165\n",
              "std        53.657899\n",
              "min         1.000000\n",
              "25%        10.000000\n",
              "50%        22.000000\n",
              "75%        49.000000\n",
              "max       475.000000\n",
              "Name: correct_response, dtype: float64"
            ]
          },
          "metadata": {},
          "execution_count": 5
        }
      ],
      "source": [
        "# Get user encounter counts\n",
        "user_encounter_counts = df_fe.groupby('user_id')['correct_response'].count()\n",
        "user_encounter_counts.describe()"
      ]
    },
    {
      "cell_type": "code",
      "execution_count": 6,
      "metadata": {
        "id": "wDT9Rpc1A9m6"
      },
      "outputs": [],
      "source": [
        "# significant users\n",
        "user_sig = user_encounter_counts[user_encounter_counts > user_encounter_counts.quantile(0.5)]"
      ]
    },
    {
      "cell_type": "markdown",
      "metadata": {
        "id": "RGm4RBunA9m9"
      },
      "source": [
        "selecting only items that have a history with our \"significant\" users."
      ]
    },
    {
      "cell_type": "code",
      "execution_count": 7,
      "metadata": {
        "colab": {
          "base_uri": "https://localhost:8080/"
        },
        "id": "XKLGlJbuA9nA",
        "outputId": "6b057255-a018-47fe-80df-341727acb518"
      },
      "outputs": [
        {
          "output_type": "execute_result",
          "data": {
            "text/plain": [
              "count    1160.000000\n",
              "mean      117.343966\n",
              "std        97.218139\n",
              "min         1.000000\n",
              "25%        33.000000\n",
              "50%        99.000000\n",
              "75%       173.000000\n",
              "max       425.000000\n",
              "Name: correct_response, dtype: float64"
            ]
          },
          "metadata": {},
          "execution_count": 7
        }
      ],
      "source": [
        "# items that interacted with significant users\n",
        "item_encounter_counts = df_fe[df_fe['user_id'].isin(user_sig.index)].groupby('item_id')['correct_response'].count()\n",
        "item_encounter_counts.describe()"
      ]
    },
    {
      "cell_type": "code",
      "execution_count": 8,
      "metadata": {
        "colab": {
          "base_uri": "https://localhost:8080/"
        },
        "id": "YxidODWRA9nD",
        "outputId": "47e19dfa-bb6a-4a80-bd4c-fdf01b9dc7b4"
      },
      "outputs": [
        {
          "output_type": "stream",
          "name": "stdout",
          "text": [
            "users: 1848 items: 863\n"
          ]
        }
      ],
      "source": [
        "# Cull significant items\n",
        "item_sig = item_encounter_counts[item_encounter_counts > item_encounter_counts.quantile(0.25)]\n",
        "\n",
        "# How many users and items are we left with?\n",
        "print(f'users: {user_sig.shape[0]}', f'items: {item_sig.shape[0]}')"
      ]
    },
    {
      "cell_type": "markdown",
      "metadata": {
        "id": "ba8pCAfIA9nE"
      },
      "source": [
        "### Fill in sparse data\n",
        "#### Perform SVD\n"
      ]
    },
    {
      "cell_type": "code",
      "execution_count": 9,
      "metadata": {
        "id": "Tj4bLyZ3A9nE"
      },
      "outputs": [],
      "source": [
        "# Make trainset\n",
        "cached_trainset_path = 'trainset.joblib'\n",
        "try:\n",
        "    # Load trainset\n",
        "    trainset = load(cached_trainset_path)\n",
        "except:\n",
        "    # Build data reader with binary \"rating scale\" representing wrong and right answers\n",
        "    reader = Reader(rating_scale=(0, 1))\n",
        "\n",
        "    # Build trainset from significant users and items\n",
        "    trainset = Dataset.load_from_df(\n",
        "        df_fe[(df_fe['user_id'].isin(user_sig.index)) & (df_fe['item_id'].isin(item_sig.index))],\n",
        "        reader).build_full_trainset()\n",
        "\n",
        "    # Save trainset\n",
        "    dump(trainset, cached_trainset_path)"
      ]
    },
    {
      "cell_type": "code",
      "source": [
        "# Perform SVD\n",
        "cached_svd_path = 'cached/svd.joblib'\n",
        "try:\n",
        "    # Load trained SVD object\n",
        "    svd = load(cached_svd_path)\n",
        "except:\n",
        "    # Train SVD algorithm with the default 100 factors and 20 epochs\n",
        "    svd = SVD(random_state=random_state).fit(trainset)\n",
        "\n",
        "    # Save trained SVD object\n",
        "    dump(svd, cached_svd_path)"
      ],
      "metadata": {
        "id": "i3x0QBiGtqhP"
      },
      "execution_count": 10,
      "outputs": []
    },
    {
      "cell_type": "markdown",
      "metadata": {
        "id": "Jy9H7TAYA9nF"
      },
      "source": [
        "#### Normalize the item biases\n"
      ]
    },
    {
      "cell_type": "code",
      "execution_count": 11,
      "metadata": {
        "colab": {
          "base_uri": "https://localhost:8080/",
          "height": 465
        },
        "id": "01wYr-KhA9nF",
        "outputId": "2ccefaf5-a986-4a22-ae01-a4c2640d2d3f"
      },
      "outputs": [
        {
          "output_type": "stream",
          "name": "stdout",
          "text": [
            "correlation: 0.9681455049433862\n"
          ]
        },
        {
          "output_type": "execute_result",
          "data": {
            "text/plain": [
              "<matplotlib.collections.PathCollection at 0x7bad3f6ce650>"
            ]
          },
          "metadata": {},
          "execution_count": 11
        },
        {
          "output_type": "display_data",
          "data": {
            "text/plain": [
              "<Figure size 640x480 with 1 Axes>"
            ],
            "image/png": "[encoded data removed]"
          },
          "metadata": {}
        }
      ],
      "source": [
        "# Get axis labels for the trainset\n",
        "user_ids = [trainset.to_raw_uid(user) for user in trainset.all_users()]\n",
        "item_ids = [trainset.to_raw_iid(item) for item in trainset.all_items()]\n",
        "\n",
        "# Associate item ids with item biases\n",
        "item_biases = pd.Series(svd.bi, index=item_ids, name='item_bias')\n",
        "\n",
        "# Get estimated ratings\n",
        "df_est_ratings = pd.read_csv('/content/drive/MyDrive/data/testitem_active_est_rating.csv', encoding='utf-8', index_col='id')\n",
        "\n",
        "# Do inverted item biases correlate positively with estimated ratings?\n",
        "df_biases_ratings = df_est_ratings.merge(item_biases, left_index=True, right_index=True)\n",
        "x_rating = df_biases_ratings['est_rating']\n",
        "y_bias = -df_biases_ratings['item_bias']\n",
        "print(f'correlation: {np.corrcoef(x_rating, y_bias)[0, 1]}')\n",
        "plt.scatter(x_rating, y_bias)"
      ]
    },
    {
      "cell_type": "markdown",
      "metadata": {
        "id": "OYbnl1iUA9nG"
      },
      "source": [
        "#### Reconstruct the data\n"
      ]
    },
    {
      "cell_type": "code",
      "execution_count": null,
      "metadata": {
        "id": "ljASm7C6A9nG"
      },
      "outputs": [],
      "source": [
        "# Construct matrix data\n",
        "def construct_matrix_data(svd, trainset):\n",
        "    # Assemble variables\n",
        "    index = user_ids\n",
        "    columns = item_ids\n",
        "    global_mean = trainset.global_mean\n",
        "    bu = np.array([svd.bu]).transpose()\n",
        "    bi = svd.bi\n",
        "    qi_T = svd.qi.transpose()\n",
        "    pu = svd.pu\n",
        "\n",
        "    # Construct dataframe\n",
        "    df_md = pd.DataFrame(\n",
        "        global_mean + bu + bi + np.dot(pu, qi_T),\n",
        "        index=user_ids,\n",
        "        columns=item_ids).clip(0, 1) # Clip to possible percent values\n",
        "    return df_md\n",
        "\n",
        "cached_matrix_data_path = 'cached/matrix_data.joblib'\n",
        "try:\n",
        "    # Load trained SVD object\n",
        "    df_md = load(cached_matrix_data_path)\n",
        "except:\n",
        "    # Construct the matrix data\n",
        "    df_md = construct_matrix_data(svd, trainset)\n",
        "\n",
        "    # Save the matrix data\n",
        "    dump(df_md, cached_matrix_data_path)"
      ]
    },
    {
      "cell_type": "markdown",
      "metadata": {
        "id": "D3YAGjFzA9nG"
      },
      "source": [
        "### Create training data\n",
        "#### Determine user scores\n"
      ]
    },
    {
      "cell_type": "code",
      "execution_count": null,
      "metadata": {
        "id": "7--cpHn6A9nG"
      },
      "outputs": [],
      "source": [
        "plt.hist(svd.bu)"
      ]
    },
    {
      "cell_type": "code",
      "execution_count": null,
      "metadata": {
        "id": "zZCAt3wzA9nH"
      },
      "outputs": [],
      "source": [
        "# Set threshold\n",
        "threshold = 0.75\n",
        "\n",
        "# Get sample user ids\n",
        "sample_size = 5\n",
        "user_sample_ids = np.random.choice(user_ids, sample_size)\n",
        "\n",
        "# Create subplots\n",
        "fig, axs = plt.subplots(sample_size, figsize=(16, 4 * sample_size), sharex=True, sharey=True)\n",
        "i = 0\n",
        "for label, data in df_md.loc[user_sample_ids].iterrows():\n",
        "    # Plot correct chance againt item bias\n",
        "    axs[i].scatter(-svd.bi, data)\n",
        "\n",
        "    # Plot line of best fit\n",
        "    line = linregress(-svd.bi, data)\n",
        "    axs[i].plot(-svd.bi, line.slope * -svd.bi + line.intercept, color='red')\n",
        "\n",
        "    # Show item bias at threshold\n",
        "    thresh_bias = (threshold - line.intercept) / line.slope\n",
        "    axs[i].plot(thresh_bias, threshold, marker='o', color='yellow')\n",
        "    axs[i].set_title(f'thresh_bias = {thresh_bias}')\n",
        "\n",
        "    # Increment subplot index\n",
        "    i += 1"
      ]
    },
    {
      "cell_type": "code",
      "execution_count": null,
      "metadata": {
        "id": "PaI7kDT3A9nI"
      },
      "outputs": [],
      "source": [
        "# Normalize biases\n",
        "def normalize_bias(bias, min_norm, max_norm):\n",
        "    min_real = np.min(bias)\n",
        "    max_real = np.max(bias)\n",
        "    return (bias - min_real) / (max_real - min_real) * (max_norm - min_norm) + min_norm\n",
        "\n",
        "# Get line of best fit for all users\n",
        "min_norm = 20\n",
        "max_norm = 120\n",
        "normalized_biases = normalize_bias(-svd.bi, min_norm, max_norm)\n",
        "df_lindata = pd.DataFrame(\n",
        "    [linregress(normalized_biases, row[1])._asdict() for row in df_md.iterrows()],\n",
        "    df_md.index)\n",
        "\n",
        "# Get user scores clipped to (20, 120)\n",
        "user_scores = ((threshold - df_lindata['intercept']) / df_lindata['slope']).clip(min_norm, max_norm)\n",
        "print(user_scores.describe())\n",
        "user_scores.hist()"
      ]
    },
    {
      "cell_type": "code",
      "execution_count": null,
      "metadata": {
        "id": "VAcQ7qOYA9nI"
      },
      "outputs": [],
      "source": [
        "# Report metrics\n",
        "def report_metrics(dt, X_test, y_test):\n",
        "    print(f'model score: {dt.score(X_test, y_test)}')\n",
        "    print(f'mean error: {mean_squared_error(y_test, dt.predict(X_test), squared=False)}')\n",
        "    print(f'max error: {max_error(y_test, dt.predict(X_test))}')\n",
        "    print(f'max tree depth: {dt.get_depth()}')\n",
        "\n",
        "# Get training and testing data\n",
        "X = df_md.clip(0.5) # Clip data minimum at pure guessing chance\n",
        "y = user_scores\n",
        "X_train, X_test, y_train, y_test = train_test_split(X, y, random_state=random_state)\n",
        "\n",
        "# Train model with grid search\n",
        "cached_model_path = 'cached/model.joblib'\n",
        "try:\n",
        "    # Load model\n",
        "    model = load(cached_model_path)\n",
        "except:\n",
        "    # Build and train model\n",
        "    regressor = DecisionTreeRegressor(random_state=random_state)\n",
        "    params = { 'min_samples_leaf': [1, 2, 4, 8, 16] }\n",
        "    model = GridSearchCV(regressor, params).fit(X_train, y_train)\n",
        "\n",
        "    # Save model\n",
        "    dump(model, cached_model_path)\n",
        "print(model.best_params_)\n",
        "report_metrics(model.best_estimator_, X_test, y_test)"
      ]
    },
    {
      "cell_type": "code",
      "execution_count": null,
      "metadata": {
        "id": "kKZzjqBZA9nJ"
      },
      "outputs": [],
      "source": [
        "# Simulate random right and wrong answers\n",
        "random_answers = np.random.randint(0, 2, X.shape[1])\n",
        "print(f'random: {model.predict([random_answers])}')\n",
        "\n",
        "# Simulate all correct answers\n",
        "perfect_answers = np.ones(X.shape[1])\n",
        "print(f'perfect: {model.predict([perfect_answers])}')"
      ]
    },
    {
      "cell_type": "code",
      "source": [],
      "metadata": {
        "id": "EJLPt1yaE5EU"
      },
      "execution_count": null,
      "outputs": []
    },
    {
      "cell_type": "code",
      "execution_count": null,
      "metadata": {
        "id": "QD3PXy32A9nK"
      },
      "outputs": [],
      "source": [
        "# Set bucket size\n",
        "bucket_size = 7\n",
        "\n",
        "# Calculate possible input values\n",
        "for i in range(0, bucket_size + 1):\n",
        "    print(f'{i} correct = {i / bucket_size}')"
      ]
    },
    {
      "cell_type": "code",
      "execution_count": null,
      "metadata": {
        "id": "_M6qD7heA9nK"
      },
      "outputs": [],
      "source": [
        "# Randomly choose which item ids to keep and sort by bias\n",
        "largest_sample_size = len(item_biases) - len(item_biases) % bucket_size\n",
        "kept_item_ids = item_biases.sample(largest_sample_size, random_state=random_state).sort_values().index\n",
        "\n",
        "# Split item ids into buckets\n",
        "buckets = np.split(kept_item_ids, int(len(kept_item_ids) / bucket_size))\n",
        "df_bucketed = pd.concat([df_md[bucket].mean(axis=1) for bucket in buckets], axis=1)\n",
        "print(df_bucketed.shape)\n",
        "df_bucketed.head()"
      ]
    },
    {
      "cell_type": "markdown",
      "metadata": {
        "id": "h0wlVi3QA9nL"
      },
      "source": [
        "Now we have 1,931 features for our decision tree to choose from instead of 13,517. So training our model again."
      ]
    },
    {
      "cell_type": "code",
      "execution_count": null,
      "metadata": {
        "id": "1uowsPTfA9nL"
      },
      "outputs": [],
      "source": [
        "# Get training and testing data\n",
        "Xb = df_bucketed.clip(0.5) # Clip data minimum to pure guessing chance\n",
        "Xb_train, Xb_test, yb_train, yb_test = train_test_split(Xb, y)\n",
        "\n",
        "# Train model with grid search\n",
        "cached_modelb_path = 'cached/modelb.joblib'\n",
        "try:\n",
        "    # Load model\n",
        "    modelb = load(cached_modelb_path)\n",
        "except:\n",
        "    # Build and train model\n",
        "    regressor = DecisionTreeRegressor(random_state=random_state)\n",
        "    params = { 'min_samples_leaf': [1, 2, 4, 8, 16] }\n",
        "    modelb = GridSearchCV(regressor, params).fit(Xb_train, yb_train)\n",
        "\n",
        "    # Save model\n",
        "    dump(modelb, cached_modelb_path)\n",
        "print(modelb.best_params_)\n",
        "report_metrics(modelb.best_estimator_, Xb_test, yb_test)"
      ]
    },
    {
      "cell_type": "code",
      "execution_count": null,
      "metadata": {
        "id": "yw5htS62A9nL"
      },
      "outputs": [],
      "source": [
        "# Simulate random right and wrong answers\n",
        "random_answers_b = np.full(Xb.shape[1], 0.5)\n",
        "print(f'random: {modelb.predict([random_answers_b])}')\n",
        "\n",
        "# Simulate all correct answers\n",
        "perfect_answers_b = np.ones(Xb.shape[1])\n",
        "print(f'perfect: {modelb.predict([perfect_answers_b])}')"
      ]
    },
    {
      "cell_type": "code",
      "execution_count": null,
      "metadata": {
        "id": "3n6U3N8yA9nM"
      },
      "outputs": [],
      "source": [
        "pd.DataFrame(modelb.best_estimator_.decision_path(Xb_test).todense()).sum(axis=1).describe()"
      ]
    },
    {
      "cell_type": "code",
      "source": [],
      "metadata": {
        "id": "2SO9hq7rt2nc"
      },
      "execution_count": null,
      "outputs": []
    },
    {
      "cell_type": "code",
      "source": [],
      "metadata": {
        "id": "AORC9PBvxbTq"
      },
      "execution_count": null,
      "outputs": []
    },
    {
      "cell_type": "code",
      "source": [],
      "metadata": {
        "id": "QEJNJasjxcCx"
      },
      "execution_count": null,
      "outputs": []
    }
  ],
  "metadata": {
    "kernelspec": {
      "display_name": "wie",
      "language": "python",
      "name": "wie"
    },
    "language_info": {
      "codemirror_mode": {
        "name": "ipython",
        "version": 3
      },
      "file_extension": ".py",
      "mimetype": "text/x-python",
      "name": "python",
      "nbconvert_exporter": "python",
      "pygments_lexer": "ipython3",
      "version": "3.7.7"
    },
    "colab": {
      "provenance": []
    }
  },
  "nbformat": 4,
  "nbformat_minor": 0
}